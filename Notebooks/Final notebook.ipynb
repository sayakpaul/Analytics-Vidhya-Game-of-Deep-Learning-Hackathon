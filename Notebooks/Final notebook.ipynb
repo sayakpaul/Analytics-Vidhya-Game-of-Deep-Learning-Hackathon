{
 "cells": [
  {
   "cell_type": "code",
   "execution_count": null,
   "metadata": {},
   "outputs": [],
   "source": [
    "import pandas as pd\n",
    "import matplotlib.pyplot as plt\n",
    "plt.style.use('ggplot')\n",
    "\n",
    "from collections import  Counter\n",
    "\n",
    "import torch\n",
    "from fastai.vision import *\n",
    "from fastai.metrics import *\n",
    "\n",
    "np.random.seed(7)\n",
    "torch.cuda.manual_seed_all(7)\n",
    "\n",
    "import os"
   ]
  },
  {
   "cell_type": "code",
   "execution_count": null,
   "metadata": {},
   "outputs": [],
   "source": [
    "test_df = pd.read_csv('test_ApKoW4T.csv')\n",
    "test_df.head()"
   ]
  },
  {
   "cell_type": "code",
   "execution_count": null,
   "metadata": {},
   "outputs": [],
   "source": [
    "databunch = ImageDataBunch.from_csv(Path('images'), ds_tfms=get_transforms(),\n",
    "                                  csv_labels='cleaned.csv',\n",
    "                                  valid_pct=0.0,\n",
    "                                size=(140,210), bs=64).normalize(imagenet_stats)\n",
    "\n",
    "# Add the test images to the DataBunch\n",
    "test_img = ImageList.from_df(test_df, path='/home/jupyter/analytics_vidhya',\n",
    "                             folder='test')\n",
    "databunch.add_test(test_img)"
   ]
  },
  {
   "cell_type": "code",
   "execution_count": null,
   "metadata": {},
   "outputs": [],
   "source": [
    "learner = cnn_learner(databunch, models.resnet101, metrics=accuracy)\n",
    "learner.load('stage-3-resnet101')"
   ]
  },
  {
   "cell_type": "code",
   "execution_count": 6,
   "metadata": {},
   "outputs": [],
   "source": [
    "import time\n",
    "\n",
    "def prepare_submission_file(learner):\n",
    "    ts = time.time()\n",
    "    pred_labels = []\n",
    "\n",
    "    for i in range(len(learner.data.test_ds)):\n",
    "        temp_pred = str(learner.predict(learner.data.test_ds[i][0])[0])\n",
    "        pred_labels.append(temp_pred)\n",
    "    submission = pd.read_csv('Submission.csv')\n",
    "    submission['category'] = pred_labels\n",
    "\n",
    "    file_name = 'submission_{}.csv'.format(ts)\n",
    "    submission.to_csv('Submission_Files/'+file_name, index=False)\n",
    "    return 'Submission file created successfully here {}'.format('Submission_Files/'+file_name)"
   ]
  },
  {
   "cell_type": "code",
   "execution_count": 7,
   "metadata": {},
   "outputs": [
    {
     "data": {
      "text/plain": [
       "'Submission file created successfully here Submission_Files/submission_1560091365.2565188.csv'"
      ]
     },
     "execution_count": 7,
     "metadata": {},
     "output_type": "execute_result"
    }
   ],
   "source": [
    "prepare_submission_file(learner)"
   ]
  },
  {
   "cell_type": "code",
   "execution_count": 15,
   "metadata": {},
   "outputs": [
    {
     "data": {
      "image/png": "[encoded data removed]",
      "text/plain": [
       "<Figure size 432x288 with 1 Axes>"
      ]
     },
     "metadata": {
      "needs_background": "light"
     },
     "output_type": "display_data"
    }
   ],
   "source": [
    "interp = ClassificationInterpretation.from_learner(learner, ds_type=DatasetType.Train)\n",
    "interp.plot_confusion_matrix()"
   ]
  },
  {
   "cell_type": "code",
   "execution_count": 13,
   "metadata": {
    "scrolled": true
   },
   "outputs": [
    {
     "data": {
      "application/vnd.jupyter.widget-view+json": {
       "model_id": "12b06958012747ed8a93a2381c0ffb48",
       "version_major": 2,
       "version_minor": 0
      },
      "text/plain": [
       "HBox(children=(VBox(children=(Image(value=b'\\xff\\xd8\\xff\\xe0\\x00\\x10JFIF\\x00\\x01\\x01\\x01\\x00d\\x00d\\x00\\x00\\xff…"
      ]
     },
     "metadata": {},
     "output_type": "display_data"
    },
    {
     "data": {
      "application/vnd.jupyter.widget-view+json": {
       "model_id": "7942e4b5d31e4e0cba1d0f9f29fc21aa",
       "version_major": 2,
       "version_minor": 0
      },
      "text/plain": [
       "Button(button_style='primary', description='Next Batch', layout=Layout(width='auto'), style=ButtonStyle())"
      ]
     },
     "metadata": {},
     "output_type": "display_data"
    }
   ],
   "source": [
    "ds, idxs = DatasetFormatter().from_toplosses(learner, ds_type=DatasetType.Train)\n",
    "ImageCleaner(ds, idxs, path=Path('images'))"
   ]
  },
  {
   "cell_type": "markdown",
   "metadata": {},
   "source": [
    "For reference:\n",
    "```\n",
    "{'Cargo': 1, \n",
    "'Military': 2, \n",
    "'Carrier': 3, \n",
    "'Cruise': 4, \n",
    "'Tankers': 5}\n",
    "```"
   ]
  },
  {
   "cell_type": "code",
   "execution_count": 12,
   "metadata": {},
   "outputs": [
    {
     "data": {
      "application/vnd.jupyter.widget-view+json": {
       "model_id": "e8ab503853d24ff8bc131aa28ba16da4",
       "version_major": 2,
       "version_minor": 0
      },
      "text/plain": [
       "HBox(children=(VBox(children=(Image(value=b'\\xff\\xd8\\xff\\xe0\\x00\\x10JFIF\\x00\\x01\\x01\\x01\\x00d\\x00d\\x00\\x00\\xff…"
      ]
     },
     "metadata": {},
     "output_type": "display_data"
    },
    {
     "data": {
      "application/vnd.jupyter.widget-view+json": {
       "model_id": "aff0e2669e1a4bd0bcc99a67375f46fb",
       "version_major": 2,
       "version_minor": 0
      },
      "text/plain": [
       "Button(button_style='primary', description='Next Batch', layout=Layout(width='auto'), style=ButtonStyle())"
      ]
     },
     "metadata": {},
     "output_type": "display_data"
    }
   ],
   "source": [
    "from fastai.widgets import *\n",
    "\n",
    "ds, idxs = DatasetFormatter().from_similars(learner, ds_type=DatasetType.Train)\n",
    "ImageCleaner(ds, idxs, path=Path('images'), duplicates=True)"
   ]
  },
  {
   "cell_type": "code",
   "execution_count": 16,
   "metadata": {},
   "outputs": [],
   "source": [
    "databunch = ImageDataBunch.from_csv(Path('images'), ds_tfms=get_transforms(),\n",
    "                                  csv_labels='cleaned.csv',\n",
    "                                  valid_pct=0.0,\n",
    "                                size=(140,210), bs=64).normalize(imagenet_stats)\n",
    "\n",
    "# Add the test images to the DataBunch\n",
    "test_img = ImageList.from_df(test_df, path='/home/jupyter/analytics_vidhya',\n",
    "                             folder='test')\n",
    "databunch.add_test(test_img)"
   ]
  },
  {
   "cell_type": "code",
   "execution_count": 17,
   "metadata": {},
   "outputs": [
    {
     "data": {
      "text/html": [
       "<table border=\"1\" class=\"dataframe\">\n",
       "  <thead>\n",
       "    <tr style=\"text-align: left;\">\n",
       "      <th>epoch</th>\n",
       "      <th>train_loss</th>\n",
       "      <th>valid_loss</th>\n",
       "      <th>accuracy</th>\n",
       "      <th>time</th>\n",
       "    </tr>\n",
       "  </thead>\n",
       "  <tbody>\n",
       "    <tr>\n",
       "      <td>0</td>\n",
       "      <td>0.559650</td>\n",
       "      <td>#na#</td>\n",
       "      <td>01:08</td>\n",
       "    </tr>\n",
       "    <tr>\n",
       "      <td>1</td>\n",
       "      <td>0.468398</td>\n",
       "      <td>#na#</td>\n",
       "      <td>01:07</td>\n",
       "    </tr>\n",
       "    <tr>\n",
       "      <td>2</td>\n",
       "      <td>0.355863</td>\n",
       "      <td>#na#</td>\n",
       "      <td>01:07</td>\n",
       "    </tr>\n",
       "    <tr>\n",
       "      <td>3</td>\n",
       "      <td>0.240116</td>\n",
       "      <td>#na#</td>\n",
       "      <td>01:07</td>\n",
       "    </tr>\n",
       "    <tr>\n",
       "      <td>4</td>\n",
       "      <td>0.137689</td>\n",
       "      <td>#na#</td>\n",
       "      <td>01:07</td>\n",
       "    </tr>\n",
       "  </tbody>\n",
       "</table>"
      ],
      "text/plain": [
       "<IPython.core.display.HTML object>"
      ]
     },
     "metadata": {},
     "output_type": "display_data"
    },
    {
     "data": {
      "image/png": "[encoded data removed]",
      "text/plain": [
       "<Figure size 432x288 with 1 Axes>"
      ]
     },
     "metadata": {
      "needs_background": "light"
     },
     "output_type": "display_data"
    }
   ],
   "source": [
    "learner = cnn_learner(databunch, models.resnet101, metrics=accuracy)\n",
    "learner.unfreeze()\n",
    "learner.fit_one_cycle(5, max_lr=slice(1e-04, 1e-02))\n",
    "learner.recorder.plot_losses()"
   ]
  },
  {
   "cell_type": "code",
   "execution_count": 18,
   "metadata": {},
   "outputs": [
    {
     "data": {
      "text/plain": [
       "'Submission file created successfully here Submission_Files/submission_1560093306.4613566.csv'"
      ]
     },
     "execution_count": 18,
     "metadata": {},
     "output_type": "execute_result"
    }
   ],
   "source": [
    "prepare_submission_file(learner)"
   ]
  },
  {
   "cell_type": "code",
   "execution_count": 19,
   "metadata": {},
   "outputs": [],
   "source": [
    "learner.save('stage-4-resnet101')"
   ]
  },
  {
   "cell_type": "code",
   "execution_count": 20,
   "metadata": {},
   "outputs": [],
   "source": [
    "# Combining predictions\n",
    "prepend = 'Submission_Files/'\n",
    "\n",
    "submission_prefinal = pd.read_csv(prepend+'submission_1560091365.2565188.csv')\n",
    "submission_final = pd.read_csv(prepend+'submission_1560093306.4613566.csv')\n",
    "             \n",
    "submission_combined = submission_three.copy()\n",
    "submission_combined['category'] = pd.concat([submission_prefinal.category, \n",
    "                                             submission_final],\n",
    "                                             axis=1).max(axis=1)\n",
    "file_name = 'submission_{}.csv'.format(time.time())\n",
    "submission_combined.to_csv('Submission_Files/'+file_name, index=False)            "
   ]
  }
 ],
 "metadata": {
  "kernelspec": {
   "display_name": "Python 3",
   "language": "python",
   "name": "python3"
  },
  "language_info": {
   "codemirror_mode": {
    "name": "ipython",
    "version": 3
   },
   "file_extension": ".py",
   "mimetype": "text/x-python",
   "name": "python",
   "nbconvert_exporter": "python",
   "pygments_lexer": "ipython3",
   "version": "3.7.1"
  }
 },
 "nbformat": 4,
 "nbformat_minor": 2
}
